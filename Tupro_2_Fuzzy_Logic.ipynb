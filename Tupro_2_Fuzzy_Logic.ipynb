{
  "nbformat": 4,
  "nbformat_minor": 0,
  "metadata": {
    "colab": {
      "name": "Tupro_2_Fuzzy_Logic",
      "provenance": [],
      "collapsed_sections": [],
      "include_colab_link": true
    },
    "kernelspec": {
      "name": "python3",
      "display_name": "Python 3"
    }
  },
  "cells": [
    {
      "cell_type": "markdown",
      "metadata": {
        "id": "view-in-github",
        "colab_type": "text"
      },
      "source": [
        "<a href=\"https://colab.research.google.com/github/irwanrezaf/Fuzzy-Logic/blob/main/Tupro_2_Fuzzy_Logic.ipynb\" target=\"_parent\"><img src=\"https://colab.research.google.com/assets/colab-badge.svg\" alt=\"Open In Colab\"/></a>"
      ]
    },
    {
      "cell_type": "code",
      "metadata": {
        "id": "e8xEm_XfApcD",
        "colab": {
          "base_uri": "https://localhost:8080/"
        },
        "outputId": "37ce448d-dfe7-4544-a89b-295426e34c88"
      },
      "source": [
        "!gdown --id 1LLIqdkukJlMhIH5ezUSj3DcKHysyIT__\n",
        "\n",
        "#melakukan download dataset pada google drive \n",
        "#https://drive.google.com/file/d/1LLIqdkukJlMhIH5ezUSj3DcKHysyIT__/view?usp=sharing\n"
      ],
      "execution_count": null,
      "outputs": [
        {
          "output_type": "stream",
          "text": [
            "Downloading...\n",
            "From: https://drive.google.com/uc?id=1LLIqdkukJlMhIH5ezUSj3DcKHysyIT__\n",
            "To: /content/restoran.xlsx\n",
            "\r  0% 0.00/10.5k [00:00<?, ?B/s]\r100% 10.5k/10.5k [00:00<00:00, 8.78MB/s]\n"
          ],
          "name": "stdout"
        }
      ]
    },
    {
      "cell_type": "code",
      "metadata": {
        "id": "YjC5qUhnF5RB",
        "colab": {
          "base_uri": "https://localhost:8080/",
          "height": 348
        },
        "outputId": "7441c493-1920-4804-d487-a2e9629aa121"
      },
      "source": [
        "#import library pandas\n",
        "import pandas as pd\n",
        "\n",
        "# import dataset dan lihat 10 data pertama  \n",
        "data_frame = pd.read_excel(\"restoran.xlsx\")\n",
        "data_frame.head(10)"
      ],
      "execution_count": null,
      "outputs": [
        {
          "output_type": "execute_result",
          "data": {
            "text/html": [
              "<div>\n",
              "<style scoped>\n",
              "    .dataframe tbody tr th:only-of-type {\n",
              "        vertical-align: middle;\n",
              "    }\n",
              "\n",
              "    .dataframe tbody tr th {\n",
              "        vertical-align: top;\n",
              "    }\n",
              "\n",
              "    .dataframe thead th {\n",
              "        text-align: right;\n",
              "    }\n",
              "</style>\n",
              "<table border=\"1\" class=\"dataframe\">\n",
              "  <thead>\n",
              "    <tr style=\"text-align: right;\">\n",
              "      <th></th>\n",
              "      <th>id</th>\n",
              "      <th>pelayanan</th>\n",
              "      <th>makanan</th>\n",
              "    </tr>\n",
              "  </thead>\n",
              "  <tbody>\n",
              "    <tr>\n",
              "      <th>0</th>\n",
              "      <td>1</td>\n",
              "      <td>58</td>\n",
              "      <td>7</td>\n",
              "    </tr>\n",
              "    <tr>\n",
              "      <th>1</th>\n",
              "      <td>2</td>\n",
              "      <td>54</td>\n",
              "      <td>1</td>\n",
              "    </tr>\n",
              "    <tr>\n",
              "      <th>2</th>\n",
              "      <td>3</td>\n",
              "      <td>98</td>\n",
              "      <td>2</td>\n",
              "    </tr>\n",
              "    <tr>\n",
              "      <th>3</th>\n",
              "      <td>4</td>\n",
              "      <td>52</td>\n",
              "      <td>4</td>\n",
              "    </tr>\n",
              "    <tr>\n",
              "      <th>4</th>\n",
              "      <td>5</td>\n",
              "      <td>11</td>\n",
              "      <td>4</td>\n",
              "    </tr>\n",
              "    <tr>\n",
              "      <th>5</th>\n",
              "      <td>6</td>\n",
              "      <td>59</td>\n",
              "      <td>10</td>\n",
              "    </tr>\n",
              "    <tr>\n",
              "      <th>6</th>\n",
              "      <td>7</td>\n",
              "      <td>61</td>\n",
              "      <td>8</td>\n",
              "    </tr>\n",
              "    <tr>\n",
              "      <th>7</th>\n",
              "      <td>8</td>\n",
              "      <td>30</td>\n",
              "      <td>10</td>\n",
              "    </tr>\n",
              "    <tr>\n",
              "      <th>8</th>\n",
              "      <td>9</td>\n",
              "      <td>45</td>\n",
              "      <td>1</td>\n",
              "    </tr>\n",
              "    <tr>\n",
              "      <th>9</th>\n",
              "      <td>10</td>\n",
              "      <td>36</td>\n",
              "      <td>9</td>\n",
              "    </tr>\n",
              "  </tbody>\n",
              "</table>\n",
              "</div>"
            ],
            "text/plain": [
              "   id  pelayanan  makanan\n",
              "0   1         58        7\n",
              "1   2         54        1\n",
              "2   3         98        2\n",
              "3   4         52        4\n",
              "4   5         11        4\n",
              "5   6         59       10\n",
              "6   7         61        8\n",
              "7   8         30       10\n",
              "8   9         45        1\n",
              "9  10         36        9"
            ]
          },
          "metadata": {
            "tags": []
          },
          "execution_count": 124
        }
      ]
    },
    {
      "cell_type": "code",
      "metadata": {
        "id": "1BT4EOvOGC5G",
        "colab": {
          "base_uri": "https://localhost:8080/",
          "height": 279
        },
        "outputId": "e468a831-df4e-42d5-a096-7a3b206a8fa8"
      },
      "source": [
        "#import library matplotlib untuk ploting data\n",
        "import matplotlib.pyplot as plt\n",
        "\n",
        "# lihat plotingan data restoran \n",
        "plt.scatter(data_frame.pelayanan, data_frame.makanan)\n",
        "\n",
        "#buat label pada grafik plotingan\n",
        "plt.xlabel(\"Pelayanan\")\n",
        "plt.ylabel(\"Makanan\")\n",
        "\n",
        "#tampilkan plot\n",
        "plt.show()"
      ],
      "execution_count": null,
      "outputs": [
        {
          "output_type": "display_data",
          "data": {
            "image/png": "[encoded data removed]",
            "text/plain": [
              "<Figure size 432x288 with 1 Axes>"
            ]
          },
          "metadata": {
            "tags": [],
            "needs_background": "light"
          }
        }
      ]
    },
    {
      "cell_type": "code",
      "metadata": {
        "id": "PUV2IjGMO4XP"
      },
      "source": [
        "def plot_linguistik(point, warna, label='', min=0, max=1):\n",
        "\n",
        "   \n",
        "    # set nilai y \n",
        "    y = [0, 1, 1, 0]\n",
        "\n",
        "    # plot garis pertama\n",
        "    plt.plot([min, point[0]], [0, 0], warna)\n",
        "    \n",
        "    # plot garis antara garis pertama dan terakhir\n",
        "    for i in range(len(point) - 1):\n",
        "        plt.plot([point[i], point[i + 1]], [y[i], y[i + 1]], warna)\n",
        "    \n",
        "    # plot garis terakhir\n",
        "    plt.plot([point[3], max], [0, 0], warna, label=label)\n",
        "\n"
      ],
      "execution_count": null,
      "outputs": []
    },
    {
      "cell_type": "code",
      "metadata": {
        "id": "RMBaJj12qSrp"
      },
      "source": [
        "def plot_membership(membership, min=0, max=1):\n",
        "\n",
        "    \n",
        "    # Warna yang akan ditampilkan dalam plot\n",
        "    colors = ['c', 'm', 'y', 'k']\n",
        "\n",
        "    # Plot masing-masing linguistik\n",
        "    i = 0\n",
        "    for ling in membership:\n",
        "        plot_linguistik(membership[ling], colors[i], ling, min=min, max=max)\n",
        "        i += 1\n",
        "    \n",
        "    plt.legend(loc=4)\n",
        "    plt.show()"
      ],
      "execution_count": null,
      "outputs": []
    },
    {
      "cell_type": "code",
      "metadata": {
        "id": "H9U38mP_r-x3"
      },
      "source": [
        "def fuzzy_linguistik(x, point):\n",
        "\n",
        "    \n",
        "    # jika point berada didepan dan dibelakang grafik\n",
        "    if x < point[0] or x > point[3]:\n",
        "        return 0\n",
        "    \n",
        "    # jika point berada ditengah grafik\n",
        "    elif x >= point[1] and x <= point[2]:\n",
        "        return 1\n",
        "    \n",
        "    # jika point berada di 1/4 grafik kiri\n",
        "    elif x >= point[0] and x < point[1]:\n",
        "        return (x - point[0]) / (point[1] - point[0])\n",
        "    \n",
        "    # jika point berada di 1/4 grafik kanan\n",
        "    elif x >= point[2] and x < point[3]:\n",
        "        return (point[3] - x) / (point[3] - point[2])\n",
        "\n",
        "    return 0\n",
        "\n"
      ],
      "execution_count": null,
      "outputs": []
    },
    {
      "cell_type": "code",
      "metadata": {
        "id": "kvwbBm4zqjG-"
      },
      "source": [
        "def fuzzy_keanggotaan(x, keanggotaan):\n",
        "\n",
        "    \n",
        "    result = {}\n",
        "\n",
        "    # Mencari nilai fuzzy untuk masing-masing linguistik dalam Membership\n",
        "    for ling in keanggotaan:\n",
        "        result[ling] = fuzzy_linguistik(x, keanggotaan[ling])\n",
        "\n",
        "    return result\n",
        "\n"
      ],
      "execution_count": null,
      "outputs": []
    },
    {
      "cell_type": "code",
      "metadata": {
        "id": "HUizr0_QqndN"
      },
      "source": [
        "def fuzzyfikasi(x, list_keanggotaan):\n",
        "\n",
        "    result = []\n",
        "    \n",
        "    # hitung seluruh hasil fuzzyfication dari seluruh membership\n",
        "    for i in range(len(list_keanggotaan)):\n",
        "        result.append(fuzzy_keanggotaan(x[i], list_keanggotaan[i]))\n",
        "\n",
        "    return result"
      ],
      "execution_count": null,
      "outputs": []
    },
    {
      "cell_type": "code",
      "metadata": {
        "id": "Ej_WyJdLsA1I"
      },
      "source": [
        "def inferensi(nilai_fuzzy, rule):\n",
        "\n",
        "    \n",
        "    result = {}\n",
        "\n",
        "    # loop seluruh linguistik l dan value v dari hasil fuzzyfication\n",
        "    for l1, v1 in nilai_fuzzy[0].items():\n",
        "        for l2, v2 in nilai_fuzzy[1].items():\n",
        "\n",
        "            # r dan min_value merupakan kombinasi dua linguistik\n",
        "            # dan value minimal dari kedua linguistik\n",
        "            r, min_value = (l1, l2), min(v1, v2)\n",
        "            \n",
        "            # lihat nilai yang sudah didapat pada hasil\n",
        "            current_value = result.get(rule[r], 0)\n",
        "            \n",
        "            # replace nilai hasil apabila current value lebih kecil\n",
        "            result[rule[r]] = max(min_value, current_value)\n",
        "\n",
        "    return result"
      ],
      "execution_count": null,
      "outputs": []
    },
    {
      "cell_type": "code",
      "metadata": {
        "id": "PgVrqgfYsDyd",
        "colab": {
          "base_uri": "https://localhost:8080/",
          "height": 761
        },
        "outputId": "e2dd2c99-5f06-4ddd-85fa-3e862682af4b"
      },
      "source": [
        "# Membership Pelayanan\n",
        "pelayanan = {\n",
        "    'bad'   : [ 0,  0,  10,  30],\n",
        "    'ordinary'   : [ 25,  30,  40,  55],\n",
        "    'good'  : [ 45, 50, 60, 75],\n",
        "    'very good'  : [70, 90, 100, 100]\n",
        "}\n",
        "\n",
        "# Membership Makanan\n",
        "makanan = {\n",
        "    'not good'   : [0,  0,  2,  4],\n",
        "    'not bad'   : [3,  5,  6,  8],\n",
        "    'delicious'      : [6,  7,  8,  9],\n",
        "    'very delicious' : [8, 9 , 10 , 10]\n",
        "}\n",
        "\n",
        "# Plot Membership Pelayanan dan Makanan\n",
        "plot_membership(pelayanan, max=100)\n",
        "plot_membership(makanan, max=10)\n",
        "\n",
        "# Rule Inference\n",
        "rule = {\n",
        "    ('bad' , 'not good')   : 'reject',\n",
        "    ('bad' , 'not bad')  : 'reject',\n",
        "    ('bad' , 'delicious')    : 'consider',\n",
        "    ('bad' , 'very delicious') : 'consider',\n",
        "    ('ordinary' , 'not good')   : 'reject',\n",
        "    ('ordinary' , 'not bad')  : 'reject',\n",
        "    ('ordinary' , 'delicious')    : 'consider',\n",
        "    ('ordinary' , 'very delicious') : 'consider',\n",
        "    ('good' , 'not good')   : 'reject',\n",
        "    ('good' , 'not bad')  : 'reject',\n",
        "    ('good' , 'delicious')    : 'consider',\n",
        "    ('good' , 'very delicious') : 'accept',\n",
        "    ('very good' , 'not good')   : 'reject',\n",
        "    ('very good' , 'not bad')  : 'consider',\n",
        "    ('very good' , 'delicious')    : 'consider',\n",
        "    ('very good' , 'very delicious') : 'accept',\n",
        "    \n",
        "}\n",
        "\n",
        "# Membership Sugeno\n",
        "accept_sugeno = {'accept':100, 'consider':60, 'reject':10}\n",
        "\n",
        "# Plot Membership Sugeno\n",
        "colors = 'cmyk'\n",
        "for key, val in accept_sugeno.items():\n",
        "    plt.plot([val, val], [0, 1], colors[0], label=key )\n",
        "    colors = colors[1:]\n",
        "plt.legend(loc=4)\n",
        "\n",
        "plt.show()"
      ],
      "execution_count": null,
      "outputs": [
        {
          "output_type": "display_data",
          "data": {
            "image/png": "[encoded data removed]",
            "text/plain": [
              "<Figure size 432x288 with 1 Axes>"
            ]
          },
          "metadata": {
            "tags": [],
            "needs_background": "light"
          }
        },
        {
          "output_type": "display_data",
          "data": {
            "image/png": "[encoded data removed]",
            "text/plain": [
              "<Figure size 432x288 with 1 Axes>"
            ]
          },
          "metadata": {
            "tags": [],
            "needs_background": "light"
          }
        },
        {
          "output_type": "display_data",
          "data": {
            "image/png": "[encoded data removed]",
            "text/plain": [
              "<Figure size 432x288 with 1 Axes>"
            ]
          },
          "metadata": {
            "tags": [],
            "needs_background": "light"
          }
        }
      ]
    },
    {
      "cell_type": "code",
      "metadata": {
        "id": "5arNRHPRsCSe"
      },
      "source": [
        "def defuzz_sugeno(x_infer, membership):\n",
        "\n",
        "   \n",
        "    num, den = 0, 0\n",
        "\n",
        "    # Penggunaan Rumus Defuzz Sugeno\n",
        "    for ling in membership:\n",
        "        num += x_infer[ling] * membership[ling]\n",
        "        den += x_infer[ling]\n",
        "        \n",
        "    return num / den"
      ],
      "execution_count": null,
      "outputs": []
    },
    {
      "cell_type": "code",
      "metadata": {
        "id": "uMdh8VJAsH5g",
        "colab": {
          "base_uri": "https://localhost:8080/",
          "height": 295
        },
        "outputId": "49cf7824-e8c6-4f1a-8eb9-51b0565efa12"
      },
      "source": [
        "# lakukan seluruh proses fuzzy pada dataset\n",
        "inference = []\n",
        "skor = []\n",
        "\n",
        "for x in data_frame.drop('id', axis=1).values:\n",
        "    x_fuzzy = fuzzyfikasi(x, [pelayanan, makanan])\n",
        "    x_infer = inferensi(x_fuzzy, rule)\n",
        "    # Proses mendapatkan skor untuk masing-masing\n",
        "    x_defuz = defuzz_sugeno(x_infer, accept_sugeno)\n",
        "    \n",
        "    skor.append(x_defuz)\n",
        "    inference.append(x_infer)\n",
        "\n",
        "# Append skor kedalam dataset\n",
        "data_frame['Skor'] = skor\n",
        "data_frame['Infer'] = inference\n",
        "\n",
        "# Mencari 10 restoran terbaik\n",
        "data_frame_top_ten = data_frame.sort_values(by='Skor', ascending=False)[:10]\n",
        "data_frame_other = data_frame.drop(data_frame_top_ten.index)\n",
        "\n",
        "\n",
        "\n",
        "# Plot Restoran berdasarkan Skor\n",
        "plt.scatter(data_frame_top_ten.pelayanan,\n",
        "            data_frame_top_ten.makanan,\n",
        "            label='Top 10')\n",
        "plt.scatter(data_frame_other.pelayanan,\n",
        "            data_frame_other.makanan,\n",
        "            label='Other')\n",
        "\n",
        "# Informasi tambahan pada Grafik\n",
        "plt.xlabel('Pelayanan')\n",
        "plt.ylabel('Makanan')\n",
        "plt.title('Restaurant Ratings')\n",
        "plt.legend(loc='lower right')\n",
        "\n",
        "plt.show()"
      ],
      "execution_count": null,
      "outputs": [
        {
          "output_type": "display_data",
          "data": {
            "image/png": "[encoded data removed]",
            "text/plain": [
              "<Figure size 432x288 with 1 Axes>"
            ]
          },
          "metadata": {
            "tags": [],
            "needs_background": "light"
          }
        }
      ]
    },
    {
      "cell_type": "code",
      "metadata": {
        "id": "eGLzmmM-e3Ld",
        "colab": {
          "base_uri": "https://localhost:8080/"
        },
        "outputId": "d8dd7a9d-eed5-41c1-c98c-f64747e2c266"
      },
      "source": [
        "x"
      ],
      "execution_count": null,
      "outputs": [
        {
          "output_type": "execute_result",
          "data": {
            "text/plain": [
              "array([11,  8])"
            ]
          },
          "metadata": {
            "tags": []
          },
          "execution_count": 135
        }
      ]
    },
    {
      "cell_type": "code",
      "metadata": {
        "id": "T8rmf_EgA_4Q",
        "colab": {
          "base_uri": "https://localhost:8080/"
        },
        "outputId": "bba55ef4-2ad7-4f40-eb86-73493fadee49"
      },
      "source": [
        "x_fuzzy"
      ],
      "execution_count": null,
      "outputs": [
        {
          "output_type": "execute_result",
          "data": {
            "text/plain": [
              "[{'bad': 0.95, 'good': 0, 'ordinary': 0, 'very good': 0},\n",
              " {'delicious': 1, 'not bad': 0, 'not good': 0, 'very delicious': 0.0}]"
            ]
          },
          "metadata": {
            "tags": []
          },
          "execution_count": 136
        }
      ]
    },
    {
      "cell_type": "code",
      "metadata": {
        "id": "LK6bXrCnAyJj",
        "colab": {
          "base_uri": "https://localhost:8080/"
        },
        "outputId": "a11b6a0e-2c53-4030-a7b4-cb2360dc619b"
      },
      "source": [
        "x_infer"
      ],
      "execution_count": null,
      "outputs": [
        {
          "output_type": "execute_result",
          "data": {
            "text/plain": [
              "{'accept': 0, 'consider': 0.95, 'reject': 0}"
            ]
          },
          "metadata": {
            "tags": []
          },
          "execution_count": 137
        }
      ]
    },
    {
      "cell_type": "code",
      "metadata": {
        "id": "--uwjnhDMlqi",
        "colab": {
          "base_uri": "https://localhost:8080/"
        },
        "outputId": "44fbd4a7-f312-424c-ed6b-b735482ee9c1"
      },
      "source": [
        "x_defuz"
      ],
      "execution_count": null,
      "outputs": [
        {
          "output_type": "execute_result",
          "data": {
            "text/plain": [
              "60.0"
            ]
          },
          "metadata": {
            "tags": []
          },
          "execution_count": 138
        }
      ]
    },
    {
      "cell_type": "code",
      "metadata": {
        "id": "ILPoAd0GsX37",
        "colab": {
          "base_uri": "https://localhost:8080/",
          "height": 348
        },
        "outputId": "6dd426ba-afb7-45a3-f63d-1b6394856deb"
      },
      "source": [
        "# Tampilkan 10 Restoran Terbaik\n",
        "data_frame_top_ten"
      ],
      "execution_count": null,
      "outputs": [
        {
          "output_type": "execute_result",
          "data": {
            "text/html": [
              "<div>\n",
              "<style scoped>\n",
              "    .dataframe tbody tr th:only-of-type {\n",
              "        vertical-align: middle;\n",
              "    }\n",
              "\n",
              "    .dataframe tbody tr th {\n",
              "        vertical-align: top;\n",
              "    }\n",
              "\n",
              "    .dataframe thead th {\n",
              "        text-align: right;\n",
              "    }\n",
              "</style>\n",
              "<table border=\"1\" class=\"dataframe\">\n",
              "  <thead>\n",
              "    <tr style=\"text-align: right;\">\n",
              "      <th></th>\n",
              "      <th>id</th>\n",
              "      <th>pelayanan</th>\n",
              "      <th>makanan</th>\n",
              "      <th>Skor</th>\n",
              "      <th>Infer</th>\n",
              "    </tr>\n",
              "  </thead>\n",
              "  <tbody>\n",
              "    <tr>\n",
              "      <th>68</th>\n",
              "      <td>69</td>\n",
              "      <td>86</td>\n",
              "      <td>10</td>\n",
              "      <td>100.000000</td>\n",
              "      <td>{'reject': 0, 'consider': 0, 'accept': 0.8}</td>\n",
              "    </tr>\n",
              "    <tr>\n",
              "      <th>78</th>\n",
              "      <td>79</td>\n",
              "      <td>87</td>\n",
              "      <td>9</td>\n",
              "      <td>100.000000</td>\n",
              "      <td>{'reject': 0, 'consider': 0, 'accept': 0.85}</td>\n",
              "    </tr>\n",
              "    <tr>\n",
              "      <th>41</th>\n",
              "      <td>42</td>\n",
              "      <td>94</td>\n",
              "      <td>10</td>\n",
              "      <td>100.000000</td>\n",
              "      <td>{'reject': 0, 'consider': 0, 'accept': 1}</td>\n",
              "    </tr>\n",
              "    <tr>\n",
              "      <th>24</th>\n",
              "      <td>25</td>\n",
              "      <td>61</td>\n",
              "      <td>10</td>\n",
              "      <td>100.000000</td>\n",
              "      <td>{'reject': 0, 'consider': 0, 'accept': 0.93333...</td>\n",
              "    </tr>\n",
              "    <tr>\n",
              "      <th>23</th>\n",
              "      <td>24</td>\n",
              "      <td>100</td>\n",
              "      <td>9</td>\n",
              "      <td>100.000000</td>\n",
              "      <td>{'reject': 0, 'consider': 0, 'accept': 1}</td>\n",
              "    </tr>\n",
              "    <tr>\n",
              "      <th>5</th>\n",
              "      <td>6</td>\n",
              "      <td>59</td>\n",
              "      <td>10</td>\n",
              "      <td>100.000000</td>\n",
              "      <td>{'reject': 0, 'consider': 0, 'accept': 1}</td>\n",
              "    </tr>\n",
              "    <tr>\n",
              "      <th>21</th>\n",
              "      <td>22</td>\n",
              "      <td>79</td>\n",
              "      <td>9</td>\n",
              "      <td>100.000000</td>\n",
              "      <td>{'reject': 0, 'consider': 0, 'accept': 0.45}</td>\n",
              "    </tr>\n",
              "    <tr>\n",
              "      <th>53</th>\n",
              "      <td>54</td>\n",
              "      <td>64</td>\n",
              "      <td>10</td>\n",
              "      <td>100.000000</td>\n",
              "      <td>{'reject': 0, 'consider': 0, 'accept': 0.73333...</td>\n",
              "    </tr>\n",
              "    <tr>\n",
              "      <th>30</th>\n",
              "      <td>31</td>\n",
              "      <td>74</td>\n",
              "      <td>9</td>\n",
              "      <td>100.000000</td>\n",
              "      <td>{'reject': 0, 'consider': 0, 'accept': 0.2}</td>\n",
              "    </tr>\n",
              "    <tr>\n",
              "      <th>19</th>\n",
              "      <td>20</td>\n",
              "      <td>49</td>\n",
              "      <td>10</td>\n",
              "      <td>86.666667</td>\n",
              "      <td>{'reject': 0, 'consider': 0.4, 'accept': 0.8}</td>\n",
              "    </tr>\n",
              "  </tbody>\n",
              "</table>\n",
              "</div>"
            ],
            "text/plain": [
              "    id  ...                                              Infer\n",
              "68  69  ...        {'reject': 0, 'consider': 0, 'accept': 0.8}\n",
              "78  79  ...       {'reject': 0, 'consider': 0, 'accept': 0.85}\n",
              "41  42  ...          {'reject': 0, 'consider': 0, 'accept': 1}\n",
              "24  25  ...  {'reject': 0, 'consider': 0, 'accept': 0.93333...\n",
              "23  24  ...          {'reject': 0, 'consider': 0, 'accept': 1}\n",
              "5    6  ...          {'reject': 0, 'consider': 0, 'accept': 1}\n",
              "21  22  ...       {'reject': 0, 'consider': 0, 'accept': 0.45}\n",
              "53  54  ...  {'reject': 0, 'consider': 0, 'accept': 0.73333...\n",
              "30  31  ...        {'reject': 0, 'consider': 0, 'accept': 0.2}\n",
              "19  20  ...      {'reject': 0, 'consider': 0.4, 'accept': 0.8}\n",
              "\n",
              "[10 rows x 5 columns]"
            ]
          },
          "metadata": {
            "tags": []
          },
          "execution_count": 139
        }
      ]
    },
    {
      "cell_type": "code",
      "metadata": {
        "id": "4iDpukbqEUGz",
        "colab": {
          "base_uri": "https://localhost:8080/",
          "height": 407
        },
        "outputId": "038ca33d-fddb-4f5b-e621-65396cb803ef"
      },
      "source": [
        "data_frame_other = data_frame.sort_values(by='Skor', ascending=False)[10:]\n",
        "\n",
        "\n",
        "# Tampilkan Restoran yang belum masuk 10 Terbaik\n",
        "\n",
        "data_frame_other"
      ],
      "execution_count": null,
      "outputs": [
        {
          "output_type": "execute_result",
          "data": {
            "text/html": [
              "<div>\n",
              "<style scoped>\n",
              "    .dataframe tbody tr th:only-of-type {\n",
              "        vertical-align: middle;\n",
              "    }\n",
              "\n",
              "    .dataframe tbody tr th {\n",
              "        vertical-align: top;\n",
              "    }\n",
              "\n",
              "    .dataframe thead th {\n",
              "        text-align: right;\n",
              "    }\n",
              "</style>\n",
              "<table border=\"1\" class=\"dataframe\">\n",
              "  <thead>\n",
              "    <tr style=\"text-align: right;\">\n",
              "      <th></th>\n",
              "      <th>id</th>\n",
              "      <th>pelayanan</th>\n",
              "      <th>makanan</th>\n",
              "      <th>Skor</th>\n",
              "      <th>Infer</th>\n",
              "    </tr>\n",
              "  </thead>\n",
              "  <tbody>\n",
              "    <tr>\n",
              "      <th>50</th>\n",
              "      <td>51</td>\n",
              "      <td>48</td>\n",
              "      <td>10</td>\n",
              "      <td>82.5</td>\n",
              "      <td>{'reject': 0, 'consider': 0.4666666666666667, ...</td>\n",
              "    </tr>\n",
              "    <tr>\n",
              "      <th>76</th>\n",
              "      <td>77</td>\n",
              "      <td>11</td>\n",
              "      <td>10</td>\n",
              "      <td>60.0</td>\n",
              "      <td>{'reject': 0, 'consider': 0.95, 'accept': 0}</td>\n",
              "    </tr>\n",
              "    <tr>\n",
              "      <th>82</th>\n",
              "      <td>83</td>\n",
              "      <td>69</td>\n",
              "      <td>8</td>\n",
              "      <td>60.0</td>\n",
              "      <td>{'reject': 0, 'consider': 0.4, 'accept': 0}</td>\n",
              "    </tr>\n",
              "    <tr>\n",
              "      <th>33</th>\n",
              "      <td>34</td>\n",
              "      <td>93</td>\n",
              "      <td>4</td>\n",
              "      <td>60.0</td>\n",
              "      <td>{'reject': 0, 'consider': 0.5, 'accept': 0}</td>\n",
              "    </tr>\n",
              "    <tr>\n",
              "      <th>97</th>\n",
              "      <td>98</td>\n",
              "      <td>27</td>\n",
              "      <td>10</td>\n",
              "      <td>60.0</td>\n",
              "      <td>{'reject': 0, 'consider': 0.4, 'accept': 0}</td>\n",
              "    </tr>\n",
              "    <tr>\n",
              "      <th>...</th>\n",
              "      <td>...</td>\n",
              "      <td>...</td>\n",
              "      <td>...</td>\n",
              "      <td>...</td>\n",
              "      <td>...</td>\n",
              "    </tr>\n",
              "    <tr>\n",
              "      <th>58</th>\n",
              "      <td>59</td>\n",
              "      <td>28</td>\n",
              "      <td>4</td>\n",
              "      <td>10.0</td>\n",
              "      <td>{'reject': 0.5, 'consider': 0, 'accept': 0}</td>\n",
              "    </tr>\n",
              "    <tr>\n",
              "      <th>18</th>\n",
              "      <td>19</td>\n",
              "      <td>42</td>\n",
              "      <td>3</td>\n",
              "      <td>10.0</td>\n",
              "      <td>{'reject': 0.5, 'consider': 0, 'accept': 0}</td>\n",
              "    </tr>\n",
              "    <tr>\n",
              "      <th>60</th>\n",
              "      <td>61</td>\n",
              "      <td>42</td>\n",
              "      <td>4</td>\n",
              "      <td>10.0</td>\n",
              "      <td>{'reject': 0.5, 'consider': 0, 'accept': 0}</td>\n",
              "    </tr>\n",
              "    <tr>\n",
              "      <th>63</th>\n",
              "      <td>64</td>\n",
              "      <td>35</td>\n",
              "      <td>2</td>\n",
              "      <td>10.0</td>\n",
              "      <td>{'reject': 1, 'consider': 0, 'accept': 0}</td>\n",
              "    </tr>\n",
              "    <tr>\n",
              "      <th>16</th>\n",
              "      <td>17</td>\n",
              "      <td>70</td>\n",
              "      <td>3</td>\n",
              "      <td>10.0</td>\n",
              "      <td>{'reject': 0.3333333333333333, 'consider': 0.0...</td>\n",
              "    </tr>\n",
              "  </tbody>\n",
              "</table>\n",
              "<p>90 rows × 5 columns</p>\n",
              "</div>"
            ],
            "text/plain": [
              "    id  pelayanan  ...  Skor                                              Infer\n",
              "50  51         48  ...  82.5  {'reject': 0, 'consider': 0.4666666666666667, ...\n",
              "76  77         11  ...  60.0       {'reject': 0, 'consider': 0.95, 'accept': 0}\n",
              "82  83         69  ...  60.0        {'reject': 0, 'consider': 0.4, 'accept': 0}\n",
              "33  34         93  ...  60.0        {'reject': 0, 'consider': 0.5, 'accept': 0}\n",
              "97  98         27  ...  60.0        {'reject': 0, 'consider': 0.4, 'accept': 0}\n",
              "..  ..        ...  ...   ...                                                ...\n",
              "58  59         28  ...  10.0        {'reject': 0.5, 'consider': 0, 'accept': 0}\n",
              "18  19         42  ...  10.0        {'reject': 0.5, 'consider': 0, 'accept': 0}\n",
              "60  61         42  ...  10.0        {'reject': 0.5, 'consider': 0, 'accept': 0}\n",
              "63  64         35  ...  10.0          {'reject': 1, 'consider': 0, 'accept': 0}\n",
              "16  17         70  ...  10.0  {'reject': 0.3333333333333333, 'consider': 0.0...\n",
              "\n",
              "[90 rows x 5 columns]"
            ]
          },
          "metadata": {
            "tags": []
          },
          "execution_count": 140
        }
      ]
    },
    {
      "cell_type": "code",
      "metadata": {
        "id": "gWSsnzymEXnS"
      },
      "source": [
        "# Export data dalam bentuk CSV\n",
        "\n",
        "data_frame_top_ten.to_csv(\"Top_10_Restaurants.csv\")"
      ],
      "execution_count": null,
      "outputs": []
    },
    {
      "cell_type": "code",
      "metadata": {
        "id": "Qu6wEAmxVL5b"
      },
      "source": [
        "data_frame_other.to_csv(\"Other_Restaurant.csv\")"
      ],
      "execution_count": null,
      "outputs": []
    },
    {
      "cell_type": "code",
      "metadata": {
        "id": "WNH86-9vrntL"
      },
      "source": [
        "# data_frame_top_ten.to_excel('excelnibous.xls')"
      ],
      "execution_count": null,
      "outputs": []
    },
    {
      "cell_type": "code",
      "metadata": {
        "id": "8Yl4dRIuwawB"
      },
      "source": [
        "data_frame_result = data_frame_top_ten[['id']]\n"
      ],
      "execution_count": null,
      "outputs": []
    },
    {
      "cell_type": "code",
      "metadata": {
        "id": "EHLSF7rb0ZRw",
        "colab": {
          "base_uri": "https://localhost:8080/",
          "height": 348
        },
        "outputId": "960e8160-2165-451a-b3b6-778570c43498"
      },
      "source": [
        "data_frame_result"
      ],
      "execution_count": null,
      "outputs": [
        {
          "output_type": "execute_result",
          "data": {
            "text/html": [
              "<div>\n",
              "<style scoped>\n",
              "    .dataframe tbody tr th:only-of-type {\n",
              "        vertical-align: middle;\n",
              "    }\n",
              "\n",
              "    .dataframe tbody tr th {\n",
              "        vertical-align: top;\n",
              "    }\n",
              "\n",
              "    .dataframe thead th {\n",
              "        text-align: right;\n",
              "    }\n",
              "</style>\n",
              "<table border=\"1\" class=\"dataframe\">\n",
              "  <thead>\n",
              "    <tr style=\"text-align: right;\">\n",
              "      <th></th>\n",
              "      <th>id</th>\n",
              "    </tr>\n",
              "  </thead>\n",
              "  <tbody>\n",
              "    <tr>\n",
              "      <th>68</th>\n",
              "      <td>69</td>\n",
              "    </tr>\n",
              "    <tr>\n",
              "      <th>78</th>\n",
              "      <td>79</td>\n",
              "    </tr>\n",
              "    <tr>\n",
              "      <th>41</th>\n",
              "      <td>42</td>\n",
              "    </tr>\n",
              "    <tr>\n",
              "      <th>24</th>\n",
              "      <td>25</td>\n",
              "    </tr>\n",
              "    <tr>\n",
              "      <th>23</th>\n",
              "      <td>24</td>\n",
              "    </tr>\n",
              "    <tr>\n",
              "      <th>5</th>\n",
              "      <td>6</td>\n",
              "    </tr>\n",
              "    <tr>\n",
              "      <th>21</th>\n",
              "      <td>22</td>\n",
              "    </tr>\n",
              "    <tr>\n",
              "      <th>53</th>\n",
              "      <td>54</td>\n",
              "    </tr>\n",
              "    <tr>\n",
              "      <th>30</th>\n",
              "      <td>31</td>\n",
              "    </tr>\n",
              "    <tr>\n",
              "      <th>19</th>\n",
              "      <td>20</td>\n",
              "    </tr>\n",
              "  </tbody>\n",
              "</table>\n",
              "</div>"
            ],
            "text/plain": [
              "    id\n",
              "68  69\n",
              "78  79\n",
              "41  42\n",
              "24  25\n",
              "23  24\n",
              "5    6\n",
              "21  22\n",
              "53  54\n",
              "30  31\n",
              "19  20"
            ]
          },
          "metadata": {
            "tags": []
          },
          "execution_count": 145
        }
      ]
    },
    {
      "cell_type": "code",
      "metadata": {
        "id": "NzKTti660ver"
      },
      "source": [
        "data_frame_result.to_excel('peringkat.xls', index=False)"
      ],
      "execution_count": null,
      "outputs": []
    },
    {
      "cell_type": "code",
      "metadata": {
        "id": "9yQRNyn315Bw",
        "colab": {
          "base_uri": "https://localhost:8080/",
          "height": 348
        },
        "outputId": "402a0d5d-c20e-471c-ca92-c9413a7ecfa9"
      },
      "source": [
        "data_frame_result"
      ],
      "execution_count": null,
      "outputs": [
        {
          "output_type": "execute_result",
          "data": {
            "text/html": [
              "<div>\n",
              "<style scoped>\n",
              "    .dataframe tbody tr th:only-of-type {\n",
              "        vertical-align: middle;\n",
              "    }\n",
              "\n",
              "    .dataframe tbody tr th {\n",
              "        vertical-align: top;\n",
              "    }\n",
              "\n",
              "    .dataframe thead th {\n",
              "        text-align: right;\n",
              "    }\n",
              "</style>\n",
              "<table border=\"1\" class=\"dataframe\">\n",
              "  <thead>\n",
              "    <tr style=\"text-align: right;\">\n",
              "      <th></th>\n",
              "      <th>id</th>\n",
              "    </tr>\n",
              "  </thead>\n",
              "  <tbody>\n",
              "    <tr>\n",
              "      <th>68</th>\n",
              "      <td>69</td>\n",
              "    </tr>\n",
              "    <tr>\n",
              "      <th>78</th>\n",
              "      <td>79</td>\n",
              "    </tr>\n",
              "    <tr>\n",
              "      <th>41</th>\n",
              "      <td>42</td>\n",
              "    </tr>\n",
              "    <tr>\n",
              "      <th>24</th>\n",
              "      <td>25</td>\n",
              "    </tr>\n",
              "    <tr>\n",
              "      <th>23</th>\n",
              "      <td>24</td>\n",
              "    </tr>\n",
              "    <tr>\n",
              "      <th>5</th>\n",
              "      <td>6</td>\n",
              "    </tr>\n",
              "    <tr>\n",
              "      <th>21</th>\n",
              "      <td>22</td>\n",
              "    </tr>\n",
              "    <tr>\n",
              "      <th>53</th>\n",
              "      <td>54</td>\n",
              "    </tr>\n",
              "    <tr>\n",
              "      <th>30</th>\n",
              "      <td>31</td>\n",
              "    </tr>\n",
              "    <tr>\n",
              "      <th>19</th>\n",
              "      <td>20</td>\n",
              "    </tr>\n",
              "  </tbody>\n",
              "</table>\n",
              "</div>"
            ],
            "text/plain": [
              "    id\n",
              "68  69\n",
              "78  79\n",
              "41  42\n",
              "24  25\n",
              "23  24\n",
              "5    6\n",
              "21  22\n",
              "53  54\n",
              "30  31\n",
              "19  20"
            ]
          },
          "metadata": {
            "tags": []
          },
          "execution_count": 147
        }
      ]
    }
  ]
}